{
 "cells": [
  {
   "cell_type": "markdown",
   "id": "024a5600-9e15-4ad0-a221-451ccda8ae63",
   "metadata": {},
   "source": [
    "<div style=\"text-align:center; background-color:#800080; padding:10px; border-radius:5px;\">\n",
    "    <h2 style=\"color:#FFF;\">Accenture Virtual Internship - Data Cleaning - Task 2</h2>\n",
    "</div>\n"
   ]
  },
  {
   "cell_type": "code",
   "execution_count": 1,
   "id": "41fd5e4c-9e85-40f5-b2eb-c2b57ee7d9d8",
   "metadata": {},
   "outputs": [],
   "source": [
    "import pandas as pd\n",
    "import numpy as np"
   ]
  },
  {
   "cell_type": "code",
   "execution_count": 2,
   "id": "95d1b30b-af46-40d0-ba11-ef6b50d2cdd2",
   "metadata": {},
   "outputs": [],
   "source": [
    "content = pd.read_csv('Content.csv')\n",
    "reactions = pd.read_csv('Reactions.csv')\n",
    "reaction_type = pd.read_csv('ReactionTypes.csv')"
   ]
  },
  {
   "cell_type": "markdown",
   "id": "2433a710-64fe-4df9-8581-c4e66d12a38d",
   "metadata": {},
   "source": [
    "Let us go by each dataframe and perform cleaning."
   ]
  },
  {
   "cell_type": "markdown",
   "id": "81b79aa1-d0c2-4943-a859-1b485b82f2bd",
   "metadata": {},
   "source": [
    "<div style=\"text-align:center; background-color:#FFA500; padding:10px; border-radius:5px;\">\n",
    "    <h2 style=\"color:#FFF;\">Content Data</h2>\n",
    "</div>"
   ]
  },
  {
   "cell_type": "code",
   "execution_count": 3,
   "id": "3bd81a7f-56ca-4ffc-901f-b02cfdf88d9f",
   "metadata": {},
   "outputs": [
    {
     "data": {
      "text/html": [
       "<div>\n",
       "<style scoped>\n",
       "    .dataframe tbody tr th:only-of-type {\n",
       "        vertical-align: middle;\n",
       "    }\n",
       "\n",
       "    .dataframe tbody tr th {\n",
       "        vertical-align: top;\n",
       "    }\n",
       "\n",
       "    .dataframe thead th {\n",
       "        text-align: right;\n",
       "    }\n",
       "</style>\n",
       "<table border=\"1\" class=\"dataframe\">\n",
       "  <thead>\n",
       "    <tr style=\"text-align: right;\">\n",
       "      <th></th>\n",
       "      <th>Unnamed: 0</th>\n",
       "      <th>Content ID</th>\n",
       "      <th>User ID</th>\n",
       "      <th>Type</th>\n",
       "      <th>Category</th>\n",
       "      <th>URL</th>\n",
       "    </tr>\n",
       "  </thead>\n",
       "  <tbody>\n",
       "    <tr>\n",
       "      <th>0</th>\n",
       "      <td>0</td>\n",
       "      <td>97522e57-d9ab-4bd6-97bf-c24d952602d2</td>\n",
       "      <td>8d3cd87d-8a31-4935-9a4f-b319bfe05f31</td>\n",
       "      <td>photo</td>\n",
       "      <td>Studying</td>\n",
       "      <td>https://socialbuzz.cdn.com/content/storage/975...</td>\n",
       "    </tr>\n",
       "    <tr>\n",
       "      <th>1</th>\n",
       "      <td>1</td>\n",
       "      <td>9f737e0a-3cdd-4d29-9d24-753f4e3be810</td>\n",
       "      <td>beb1f34e-7870-46d6-9fc7-2e12eb83ce43</td>\n",
       "      <td>photo</td>\n",
       "      <td>healthy eating</td>\n",
       "      <td>https://socialbuzz.cdn.com/content/storage/9f7...</td>\n",
       "    </tr>\n",
       "    <tr>\n",
       "      <th>2</th>\n",
       "      <td>2</td>\n",
       "      <td>230c4e4d-70c3-461d-b42c-ec09396efb3f</td>\n",
       "      <td>a5c65404-5894-4b87-82f2-d787cbee86b4</td>\n",
       "      <td>photo</td>\n",
       "      <td>healthy eating</td>\n",
       "      <td>https://socialbuzz.cdn.com/content/storage/230...</td>\n",
       "    </tr>\n",
       "    <tr>\n",
       "      <th>3</th>\n",
       "      <td>3</td>\n",
       "      <td>356fff80-da4d-4785-9f43-bc1261031dc6</td>\n",
       "      <td>9fb4ce88-fac1-406c-8544-1a899cee7aaf</td>\n",
       "      <td>photo</td>\n",
       "      <td>technology</td>\n",
       "      <td>https://socialbuzz.cdn.com/content/storage/356...</td>\n",
       "    </tr>\n",
       "    <tr>\n",
       "      <th>4</th>\n",
       "      <td>4</td>\n",
       "      <td>01ab84dd-6364-4236-abbb-3f237db77180</td>\n",
       "      <td>e206e31b-5f85-4964-b6ea-d7ee5324def1</td>\n",
       "      <td>video</td>\n",
       "      <td>food</td>\n",
       "      <td>https://socialbuzz.cdn.com/content/storage/01a...</td>\n",
       "    </tr>\n",
       "  </tbody>\n",
       "</table>\n",
       "</div>"
      ],
      "text/plain": [
       "   Unnamed: 0                            Content ID  \\\n",
       "0           0  97522e57-d9ab-4bd6-97bf-c24d952602d2   \n",
       "1           1  9f737e0a-3cdd-4d29-9d24-753f4e3be810   \n",
       "2           2  230c4e4d-70c3-461d-b42c-ec09396efb3f   \n",
       "3           3  356fff80-da4d-4785-9f43-bc1261031dc6   \n",
       "4           4  01ab84dd-6364-4236-abbb-3f237db77180   \n",
       "\n",
       "                                User ID   Type        Category  \\\n",
       "0  8d3cd87d-8a31-4935-9a4f-b319bfe05f31  photo        Studying   \n",
       "1  beb1f34e-7870-46d6-9fc7-2e12eb83ce43  photo  healthy eating   \n",
       "2  a5c65404-5894-4b87-82f2-d787cbee86b4  photo  healthy eating   \n",
       "3  9fb4ce88-fac1-406c-8544-1a899cee7aaf  photo      technology   \n",
       "4  e206e31b-5f85-4964-b6ea-d7ee5324def1  video            food   \n",
       "\n",
       "                                                 URL  \n",
       "0  https://socialbuzz.cdn.com/content/storage/975...  \n",
       "1  https://socialbuzz.cdn.com/content/storage/9f7...  \n",
       "2  https://socialbuzz.cdn.com/content/storage/230...  \n",
       "3  https://socialbuzz.cdn.com/content/storage/356...  \n",
       "4  https://socialbuzz.cdn.com/content/storage/01a...  "
      ]
     },
     "execution_count": 3,
     "metadata": {},
     "output_type": "execute_result"
    }
   ],
   "source": [
    "content.head()"
   ]
  },
  {
   "cell_type": "markdown",
   "id": "e3c830e2-7f95-4d09-9d4f-797c1dbcd0eb",
   "metadata": {},
   "source": [
    "- It can be observed that we do not need columns like `URL`, `User ID` to the post and `Unnamed` column as it is just a serial number.\n",
    "- We would use `Content ID` to merge tables later on.\n",
    "- We will drop these columns."
   ]
  },
  {
   "cell_type": "code",
   "execution_count": 4,
   "id": "33155b14-eb2d-495c-afcc-3c7ebbb2a77e",
   "metadata": {},
   "outputs": [],
   "source": [
    "content.drop(columns=['Unnamed: 0', 'URL', 'User ID'], axis = 1, inplace=True)"
   ]
  },
  {
   "cell_type": "code",
   "execution_count": 5,
   "id": "101baae7-004f-4bf3-a6c5-0765c6a959b7",
   "metadata": {},
   "outputs": [],
   "source": [
    "# content.head()  -- Reconfirming changes"
   ]
  },
  {
   "cell_type": "code",
   "execution_count": 6,
   "id": "fa034f49-d87b-4fd0-a005-56514f17ad95",
   "metadata": {},
   "outputs": [
    {
     "data": {
      "text/plain": [
       "Content ID    0\n",
       "Type          0\n",
       "Category      0\n",
       "dtype: int64"
      ]
     },
     "execution_count": 6,
     "metadata": {},
     "output_type": "execute_result"
    }
   ],
   "source": [
    "content.isna().sum()"
   ]
  },
  {
   "cell_type": "code",
   "execution_count": 7,
   "id": "ca7f49d3-af3b-4a27-a0d8-7a7f94f8d032",
   "metadata": {},
   "outputs": [
    {
     "data": {
      "text/plain": [
       "0"
      ]
     },
     "execution_count": 7,
     "metadata": {},
     "output_type": "execute_result"
    }
   ],
   "source": [
    "content.duplicated().sum()"
   ]
  },
  {
   "cell_type": "code",
   "execution_count": 8,
   "id": "47c20336-47a7-4444-b6fe-64beac9ddb99",
   "metadata": {},
   "outputs": [
    {
     "data": {
      "text/plain": [
       "technology           71\n",
       "animals              67\n",
       "travel               67\n",
       "culture              63\n",
       "science              63\n",
       "fitness              61\n",
       "food                 61\n",
       "healthy eating       61\n",
       "cooking              60\n",
       "soccer               58\n",
       "tennis               58\n",
       "education            57\n",
       "dogs                 56\n",
       "studying             55\n",
       "veganism             48\n",
       "public speaking      48\n",
       "Fitness               5\n",
       "Animals               4\n",
       "Science               4\n",
       "\"soccer\"              3\n",
       "\"culture\"             3\n",
       "Soccer                3\n",
       "\"dogs\"                2\n",
       "Education             2\n",
       "Studying              2\n",
       "Travel                2\n",
       "Food                  2\n",
       "\"veganism\"            1\n",
       "\"public speaking\"     1\n",
       "Public Speaking       1\n",
       "\"technology\"          1\n",
       "\"cooking\"             1\n",
       "Healthy Eating        1\n",
       "\"studying\"            1\n",
       "\"food\"                1\n",
       "Culture               1\n",
       "\"tennis\"              1\n",
       "Technology            1\n",
       "\"animals\"             1\n",
       "Veganism              1\n",
       "\"science\"             1\n",
       "Name: Category, dtype: int64"
      ]
     },
     "execution_count": 8,
     "metadata": {},
     "output_type": "execute_result"
    }
   ],
   "source": [
    "content['Category'].value_counts()"
   ]
  },
  {
   "cell_type": "markdown",
   "id": "33354b66-7f2e-4d7e-83ef-1aae46a9fde4",
   "metadata": {},
   "source": [
    "- There are duplicates in the categories in the form of same categories being double quoted.\n",
    "- We would simply replcae double quotes with empty spaces."
   ]
  },
  {
   "cell_type": "code",
   "execution_count": 9,
   "id": "c77179f0-cfe8-4c1a-98a9-a76ea9f2f7c3",
   "metadata": {},
   "outputs": [],
   "source": [
    "content['Category'] = content['Category'].str.replace('\"', '')"
   ]
  },
  {
   "cell_type": "markdown",
   "id": "2a4dbe98-6e26-424b-9867-c88f0c880c05",
   "metadata": {},
   "source": [
    "- Now, it looks fine.\n",
    "- Therefore, there are no missing or duplicate values in the dataframe.\n",
    "\n",
    "Thus, `content` data is cleaned."
   ]
  },
  {
   "cell_type": "markdown",
   "id": "03e24a9e-fa8c-4099-b6fa-9f046ae3811c",
   "metadata": {},
   "source": [
    "<div style=\"text-align:center; background-color:#008000; padding:10px; border-radius:5px;\">\n",
    "    <h2 style=\"color:#FFF;\">Reaction Type Data</h2>\n",
    "</div>"
   ]
  },
  {
   "cell_type": "code",
   "execution_count": 10,
   "id": "5f00cd7e-e310-4385-8f32-6cd8ded8bb3c",
   "metadata": {},
   "outputs": [
    {
     "data": {
      "text/html": [
       "<div>\n",
       "<style scoped>\n",
       "    .dataframe tbody tr th:only-of-type {\n",
       "        vertical-align: middle;\n",
       "    }\n",
       "\n",
       "    .dataframe tbody tr th {\n",
       "        vertical-align: top;\n",
       "    }\n",
       "\n",
       "    .dataframe thead th {\n",
       "        text-align: right;\n",
       "    }\n",
       "</style>\n",
       "<table border=\"1\" class=\"dataframe\">\n",
       "  <thead>\n",
       "    <tr style=\"text-align: right;\">\n",
       "      <th></th>\n",
       "      <th>Unnamed: 0</th>\n",
       "      <th>Type</th>\n",
       "      <th>Sentiment</th>\n",
       "      <th>Score</th>\n",
       "    </tr>\n",
       "  </thead>\n",
       "  <tbody>\n",
       "    <tr>\n",
       "      <th>0</th>\n",
       "      <td>0</td>\n",
       "      <td>heart</td>\n",
       "      <td>positive</td>\n",
       "      <td>60</td>\n",
       "    </tr>\n",
       "    <tr>\n",
       "      <th>1</th>\n",
       "      <td>1</td>\n",
       "      <td>want</td>\n",
       "      <td>positive</td>\n",
       "      <td>70</td>\n",
       "    </tr>\n",
       "    <tr>\n",
       "      <th>2</th>\n",
       "      <td>2</td>\n",
       "      <td>disgust</td>\n",
       "      <td>negative</td>\n",
       "      <td>0</td>\n",
       "    </tr>\n",
       "    <tr>\n",
       "      <th>3</th>\n",
       "      <td>3</td>\n",
       "      <td>hate</td>\n",
       "      <td>negative</td>\n",
       "      <td>5</td>\n",
       "    </tr>\n",
       "    <tr>\n",
       "      <th>4</th>\n",
       "      <td>4</td>\n",
       "      <td>interested</td>\n",
       "      <td>positive</td>\n",
       "      <td>30</td>\n",
       "    </tr>\n",
       "  </tbody>\n",
       "</table>\n",
       "</div>"
      ],
      "text/plain": [
       "   Unnamed: 0        Type Sentiment  Score\n",
       "0           0       heart  positive     60\n",
       "1           1        want  positive     70\n",
       "2           2     disgust  negative      0\n",
       "3           3        hate  negative      5\n",
       "4           4  interested  positive     30"
      ]
     },
     "execution_count": 10,
     "metadata": {},
     "output_type": "execute_result"
    }
   ],
   "source": [
    "reaction_type.head()"
   ]
  },
  {
   "cell_type": "markdown",
   "id": "08f4163a-3c0e-4a79-b250-dd197a220766",
   "metadata": {},
   "source": [
    "- We do not need `Unnamed: 0` column as it just represent serial number of the rows."
   ]
  },
  {
   "cell_type": "code",
   "execution_count": 11,
   "id": "564da756-762e-47e8-bfb4-f2008e74995a",
   "metadata": {},
   "outputs": [],
   "source": [
    "reaction_type.drop(columns = 'Unnamed: 0', axis=1, inplace=True)"
   ]
  },
  {
   "cell_type": "code",
   "execution_count": 12,
   "id": "c909a5e7-066b-490c-a76e-3f8c120e9e95",
   "metadata": {},
   "outputs": [],
   "source": [
    "# reaction_type.head()   -- Confirming changes"
   ]
  },
  {
   "cell_type": "code",
   "execution_count": 13,
   "id": "a8f05e00-8333-4690-8ca2-b2ac4ae308b7",
   "metadata": {},
   "outputs": [
    {
     "data": {
      "text/plain": [
       "Type         0\n",
       "Sentiment    0\n",
       "Score        0\n",
       "dtype: int64"
      ]
     },
     "execution_count": 13,
     "metadata": {},
     "output_type": "execute_result"
    }
   ],
   "source": [
    "reaction_type.isna().sum()"
   ]
  },
  {
   "cell_type": "code",
   "execution_count": 14,
   "id": "02ecc65d-1be1-44f9-a1fa-5cd61fafd105",
   "metadata": {},
   "outputs": [
    {
     "data": {
      "text/plain": [
       "0"
      ]
     },
     "execution_count": 14,
     "metadata": {},
     "output_type": "execute_result"
    }
   ],
   "source": [
    "reaction_type.duplicated().sum()"
   ]
  },
  {
   "cell_type": "markdown",
   "id": "964be793-fe6c-4e4a-a8df-b1fd0af1f67b",
   "metadata": {},
   "source": [
    "- We do not have any missing values or duplicate values in the data.\n",
    "\n",
    "Thus, `reaction_type` is cleaned."
   ]
  },
  {
   "cell_type": "markdown",
   "id": "83c13102-6de4-4811-b079-510c9f77a375",
   "metadata": {},
   "source": [
    "<div style=\"text-align:center; background-color:#FF1493; padding:10px; border-radius:5px;\">\n",
    "    <h2 style=\"color:#FFF;\">Reactions Data</h2>\n",
    "</div>"
   ]
  },
  {
   "cell_type": "code",
   "execution_count": 15,
   "id": "ce104652-e343-43d6-8118-7c46719a9391",
   "metadata": {},
   "outputs": [
    {
     "data": {
      "text/html": [
       "<div>\n",
       "<style scoped>\n",
       "    .dataframe tbody tr th:only-of-type {\n",
       "        vertical-align: middle;\n",
       "    }\n",
       "\n",
       "    .dataframe tbody tr th {\n",
       "        vertical-align: top;\n",
       "    }\n",
       "\n",
       "    .dataframe thead th {\n",
       "        text-align: right;\n",
       "    }\n",
       "</style>\n",
       "<table border=\"1\" class=\"dataframe\">\n",
       "  <thead>\n",
       "    <tr style=\"text-align: right;\">\n",
       "      <th></th>\n",
       "      <th>Unnamed: 0</th>\n",
       "      <th>Content ID</th>\n",
       "      <th>User ID</th>\n",
       "      <th>Type</th>\n",
       "      <th>Datetime</th>\n",
       "    </tr>\n",
       "  </thead>\n",
       "  <tbody>\n",
       "    <tr>\n",
       "      <th>0</th>\n",
       "      <td>0</td>\n",
       "      <td>97522e57-d9ab-4bd6-97bf-c24d952602d2</td>\n",
       "      <td>NaN</td>\n",
       "      <td>NaN</td>\n",
       "      <td>2021-04-22 15:17:15</td>\n",
       "    </tr>\n",
       "    <tr>\n",
       "      <th>1</th>\n",
       "      <td>1</td>\n",
       "      <td>97522e57-d9ab-4bd6-97bf-c24d952602d2</td>\n",
       "      <td>5d454588-283d-459d-915d-c48a2cb4c27f</td>\n",
       "      <td>disgust</td>\n",
       "      <td>2020-11-07 09:43:50</td>\n",
       "    </tr>\n",
       "    <tr>\n",
       "      <th>2</th>\n",
       "      <td>2</td>\n",
       "      <td>97522e57-d9ab-4bd6-97bf-c24d952602d2</td>\n",
       "      <td>92b87fa5-f271-43e0-af66-84fac21052e6</td>\n",
       "      <td>dislike</td>\n",
       "      <td>2021-06-17 12:22:51</td>\n",
       "    </tr>\n",
       "    <tr>\n",
       "      <th>3</th>\n",
       "      <td>3</td>\n",
       "      <td>97522e57-d9ab-4bd6-97bf-c24d952602d2</td>\n",
       "      <td>163daa38-8b77-48c9-9af6-37a6c1447ac2</td>\n",
       "      <td>scared</td>\n",
       "      <td>2021-04-18 05:13:58</td>\n",
       "    </tr>\n",
       "    <tr>\n",
       "      <th>4</th>\n",
       "      <td>4</td>\n",
       "      <td>97522e57-d9ab-4bd6-97bf-c24d952602d2</td>\n",
       "      <td>34e8add9-0206-47fd-a501-037b994650a2</td>\n",
       "      <td>disgust</td>\n",
       "      <td>2021-01-06 19:13:01</td>\n",
       "    </tr>\n",
       "  </tbody>\n",
       "</table>\n",
       "</div>"
      ],
      "text/plain": [
       "   Unnamed: 0                            Content ID  \\\n",
       "0           0  97522e57-d9ab-4bd6-97bf-c24d952602d2   \n",
       "1           1  97522e57-d9ab-4bd6-97bf-c24d952602d2   \n",
       "2           2  97522e57-d9ab-4bd6-97bf-c24d952602d2   \n",
       "3           3  97522e57-d9ab-4bd6-97bf-c24d952602d2   \n",
       "4           4  97522e57-d9ab-4bd6-97bf-c24d952602d2   \n",
       "\n",
       "                                User ID     Type             Datetime  \n",
       "0                                   NaN      NaN  2021-04-22 15:17:15  \n",
       "1  5d454588-283d-459d-915d-c48a2cb4c27f  disgust  2020-11-07 09:43:50  \n",
       "2  92b87fa5-f271-43e0-af66-84fac21052e6  dislike  2021-06-17 12:22:51  \n",
       "3  163daa38-8b77-48c9-9af6-37a6c1447ac2   scared  2021-04-18 05:13:58  \n",
       "4  34e8add9-0206-47fd-a501-037b994650a2  disgust  2021-01-06 19:13:01  "
      ]
     },
     "execution_count": 15,
     "metadata": {},
     "output_type": "execute_result"
    }
   ],
   "source": [
    "reactions.head()"
   ]
  },
  {
   "cell_type": "markdown",
   "id": "37d8a6c9-1710-415e-95c4-29921ddc1c88",
   "metadata": {},
   "source": [
    "- We do not need `Unnamed: 0` and `User ID` column, so we are going to drop it."
   ]
  },
  {
   "cell_type": "code",
   "execution_count": 16,
   "id": "455777f6-2ac6-41cd-8e8b-6b559ddc877c",
   "metadata": {},
   "outputs": [],
   "source": [
    "reactions.drop(columns=['Unnamed: 0', 'User ID'], axis=1, inplace=True)"
   ]
  },
  {
   "cell_type": "code",
   "execution_count": 17,
   "id": "666785d1-9bbb-4061-a098-e13612df9d86",
   "metadata": {},
   "outputs": [],
   "source": [
    "# reactions.head()    -- confirming changes"
   ]
  },
  {
   "cell_type": "code",
   "execution_count": 18,
   "id": "394c783b-0c0f-4547-906f-25aff3a38722",
   "metadata": {},
   "outputs": [
    {
     "data": {
      "text/plain": [
       "Content ID    0.000000\n",
       "Type          3.835166\n",
       "Datetime      0.000000\n",
       "dtype: float64"
      ]
     },
     "execution_count": 18,
     "metadata": {},
     "output_type": "execute_result"
    }
   ],
   "source": [
    "reactions.isna().sum()/len(reactions)*100"
   ]
  },
  {
   "cell_type": "code",
   "execution_count": 19,
   "id": "e4bbbcda-05b9-43c8-9b27-93ae6b3060a7",
   "metadata": {},
   "outputs": [
    {
     "data": {
      "text/plain": [
       "0"
      ]
     },
     "execution_count": 19,
     "metadata": {},
     "output_type": "execute_result"
    }
   ],
   "source": [
    "reactions.duplicated().sum()"
   ]
  },
  {
   "cell_type": "markdown",
   "id": "457a2ca2-1cdf-4dab-844f-e82751f8e76a",
   "metadata": {},
   "source": [
    "- There are missing values in data, but no duplicate values.\n",
    "- Since, we have to find Top 5 performing categories everntually, let us drop all records with missing values."
   ]
  },
  {
   "cell_type": "code",
   "execution_count": 20,
   "id": "66423860-3b49-405a-88da-487e28dd6527",
   "metadata": {},
   "outputs": [],
   "source": [
    "reactions.dropna(inplace=True)"
   ]
  },
  {
   "cell_type": "code",
   "execution_count": 21,
   "id": "c2a52195-7820-4c7c-bbaa-db4b739bd686",
   "metadata": {},
   "outputs": [
    {
     "data": {
      "text/plain": [
       "Content ID    0.0\n",
       "Type          0.0\n",
       "Datetime      0.0\n",
       "dtype: float64"
      ]
     },
     "execution_count": 21,
     "metadata": {},
     "output_type": "execute_result"
    }
   ],
   "source": [
    "reactions.isna().sum()/len(reactions)*100"
   ]
  },
  {
   "cell_type": "markdown",
   "id": "80071727-23d9-4386-a80e-8354977da4b6",
   "metadata": {},
   "source": [
    "- Now, our `reactions` data is cleaned."
   ]
  },
  {
   "cell_type": "markdown",
   "id": "7524a13b-78e7-4dd0-a902-971c655eb053",
   "metadata": {},
   "source": [
    "<div style=\"text-align:center; background-color:#808080; padding:10px; border-radius:5px;\">\n",
    "    <h2 style=\"color:#FFF;\">Merging</h2>\n",
    "</div>\n"
   ]
  },
  {
   "cell_type": "code",
   "execution_count": 22,
   "id": "eb2db505-9c47-4fab-8172-721ac7807874",
   "metadata": {},
   "outputs": [
    {
     "data": {
      "text/plain": [
       "Index(['Content ID', 'Type', 'Category'], dtype='object')"
      ]
     },
     "execution_count": 22,
     "metadata": {},
     "output_type": "execute_result"
    }
   ],
   "source": [
    "content.columns"
   ]
  },
  {
   "cell_type": "code",
   "execution_count": 23,
   "id": "1fc8e0b7-b45d-447f-abc5-710f3c14207c",
   "metadata": {},
   "outputs": [
    {
     "data": {
      "text/plain": [
       "Index(['Content ID', 'Type', 'Datetime'], dtype='object')"
      ]
     },
     "execution_count": 23,
     "metadata": {},
     "output_type": "execute_result"
    }
   ],
   "source": [
    "reactions.columns"
   ]
  },
  {
   "cell_type": "code",
   "execution_count": 24,
   "id": "3c28eb1d-2e23-46da-b704-2594fb18f4c6",
   "metadata": {},
   "outputs": [
    {
     "data": {
      "text/plain": [
       "Index(['Type', 'Sentiment', 'Score'], dtype='object')"
      ]
     },
     "execution_count": 24,
     "metadata": {},
     "output_type": "execute_result"
    }
   ],
   "source": [
    "reaction_type.columns"
   ]
  },
  {
   "cell_type": "markdown",
   "id": "ab497b57-ebfd-4448-b9cc-a90657e49803",
   "metadata": {},
   "source": [
    "- Before merging we need to rename columns in the dataframes to avoid ambiguity due to same names."
   ]
  },
  {
   "cell_type": "code",
   "execution_count": 25,
   "id": "23c76eb5-a833-406b-a2f8-c20c8526ac58",
   "metadata": {},
   "outputs": [],
   "source": [
    "content.rename(columns={'Type':'Content Type'}, inplace=True)\n",
    "reactions.rename(columns={'Type':'Reaction Type'}, inplace=True)\n",
    "reaction_type.rename(columns={'Type':'Reaction Type'}, inplace=True)"
   ]
  },
  {
   "cell_type": "code",
   "execution_count": 26,
   "id": "ce025fd6-fd3e-4b8e-a427-e7ada4f7bc50",
   "metadata": {},
   "outputs": [],
   "source": [
    "merged = reactions.merge(content, on='Content ID', how='left').merge(reaction_type, on='Reaction Type', how='left')"
   ]
  },
  {
   "cell_type": "code",
   "execution_count": 27,
   "id": "28c76d03-7faf-4a5d-8a11-3b2580f422ae",
   "metadata": {},
   "outputs": [
    {
     "data": {
      "text/html": [
       "<div>\n",
       "<style scoped>\n",
       "    .dataframe tbody tr th:only-of-type {\n",
       "        vertical-align: middle;\n",
       "    }\n",
       "\n",
       "    .dataframe tbody tr th {\n",
       "        vertical-align: top;\n",
       "    }\n",
       "\n",
       "    .dataframe thead th {\n",
       "        text-align: right;\n",
       "    }\n",
       "</style>\n",
       "<table border=\"1\" class=\"dataframe\">\n",
       "  <thead>\n",
       "    <tr style=\"text-align: right;\">\n",
       "      <th></th>\n",
       "      <th>Content ID</th>\n",
       "      <th>Reaction Type</th>\n",
       "      <th>Datetime</th>\n",
       "      <th>Content Type</th>\n",
       "      <th>Category</th>\n",
       "      <th>Sentiment</th>\n",
       "      <th>Score</th>\n",
       "    </tr>\n",
       "  </thead>\n",
       "  <tbody>\n",
       "    <tr>\n",
       "      <th>0</th>\n",
       "      <td>97522e57-d9ab-4bd6-97bf-c24d952602d2</td>\n",
       "      <td>disgust</td>\n",
       "      <td>2020-11-07 09:43:50</td>\n",
       "      <td>photo</td>\n",
       "      <td>Studying</td>\n",
       "      <td>negative</td>\n",
       "      <td>0</td>\n",
       "    </tr>\n",
       "    <tr>\n",
       "      <th>1</th>\n",
       "      <td>97522e57-d9ab-4bd6-97bf-c24d952602d2</td>\n",
       "      <td>dislike</td>\n",
       "      <td>2021-06-17 12:22:51</td>\n",
       "      <td>photo</td>\n",
       "      <td>Studying</td>\n",
       "      <td>negative</td>\n",
       "      <td>10</td>\n",
       "    </tr>\n",
       "    <tr>\n",
       "      <th>2</th>\n",
       "      <td>97522e57-d9ab-4bd6-97bf-c24d952602d2</td>\n",
       "      <td>scared</td>\n",
       "      <td>2021-04-18 05:13:58</td>\n",
       "      <td>photo</td>\n",
       "      <td>Studying</td>\n",
       "      <td>negative</td>\n",
       "      <td>15</td>\n",
       "    </tr>\n",
       "    <tr>\n",
       "      <th>3</th>\n",
       "      <td>97522e57-d9ab-4bd6-97bf-c24d952602d2</td>\n",
       "      <td>disgust</td>\n",
       "      <td>2021-01-06 19:13:01</td>\n",
       "      <td>photo</td>\n",
       "      <td>Studying</td>\n",
       "      <td>negative</td>\n",
       "      <td>0</td>\n",
       "    </tr>\n",
       "    <tr>\n",
       "      <th>4</th>\n",
       "      <td>97522e57-d9ab-4bd6-97bf-c24d952602d2</td>\n",
       "      <td>interested</td>\n",
       "      <td>2020-08-23 12:25:58</td>\n",
       "      <td>photo</td>\n",
       "      <td>Studying</td>\n",
       "      <td>positive</td>\n",
       "      <td>30</td>\n",
       "    </tr>\n",
       "  </tbody>\n",
       "</table>\n",
       "</div>"
      ],
      "text/plain": [
       "                             Content ID Reaction Type             Datetime  \\\n",
       "0  97522e57-d9ab-4bd6-97bf-c24d952602d2       disgust  2020-11-07 09:43:50   \n",
       "1  97522e57-d9ab-4bd6-97bf-c24d952602d2       dislike  2021-06-17 12:22:51   \n",
       "2  97522e57-d9ab-4bd6-97bf-c24d952602d2        scared  2021-04-18 05:13:58   \n",
       "3  97522e57-d9ab-4bd6-97bf-c24d952602d2       disgust  2021-01-06 19:13:01   \n",
       "4  97522e57-d9ab-4bd6-97bf-c24d952602d2    interested  2020-08-23 12:25:58   \n",
       "\n",
       "  Content Type  Category Sentiment  Score  \n",
       "0        photo  Studying  negative      0  \n",
       "1        photo  Studying  negative     10  \n",
       "2        photo  Studying  negative     15  \n",
       "3        photo  Studying  negative      0  \n",
       "4        photo  Studying  positive     30  "
      ]
     },
     "execution_count": 27,
     "metadata": {},
     "output_type": "execute_result"
    }
   ],
   "source": [
    "merged.head()"
   ]
  },
  {
   "cell_type": "code",
   "execution_count": 28,
   "id": "9a1640a9-ce70-4338-ac96-88ad155aca80",
   "metadata": {},
   "outputs": [
    {
     "data": {
      "text/plain": [
       "Content ID       object\n",
       "Reaction Type    object\n",
       "Datetime         object\n",
       "Content Type     object\n",
       "Category         object\n",
       "Sentiment        object\n",
       "Score             int64\n",
       "dtype: object"
      ]
     },
     "execution_count": 28,
     "metadata": {},
     "output_type": "execute_result"
    }
   ],
   "source": [
    "merged.dtypes"
   ]
  },
  {
   "cell_type": "markdown",
   "id": "e4147fa2-8998-4013-9b98-18ae51acc703",
   "metadata": {},
   "source": [
    "- Let us change the datatype of `Datetime` column, also, we can extract some of the features from this particular column"
   ]
  },
  {
   "cell_type": "code",
   "execution_count": 29,
   "id": "00c2ad37-9d72-4934-b79a-15fe3a646866",
   "metadata": {},
   "outputs": [],
   "source": [
    "merged['Datetime'] = merged['Datetime'].astype('datetime64[ns]')    # Changing datatype to datetime"
   ]
  },
  {
   "cell_type": "markdown",
   "id": "1ba1c7ca-d339-4caf-b4a1-53d89f0c18ea",
   "metadata": {},
   "source": [
    "- Let us extract `year`, `Month Name`, `Day of month`, `Weekday`, `Weekend (Y/N)`, `hour of day` from `Datetime`column."
   ]
  },
  {
   "cell_type": "code",
   "execution_count": 30,
   "id": "da2973c4-3817-4e6e-aa92-25d98a70f022",
   "metadata": {},
   "outputs": [],
   "source": [
    "merged['Year'] = merged['Datetime'].dt.year      # Extracting year\n",
    "merged['Month'] = merged['Datetime'].dt.month_name()    # Extracting month name\n",
    "merged['Day of Month'] = merged['Datetime'].dt.day      # day number of month\n",
    "merged['Day of Week'] = merged['Datetime'].dt.day_name()     # Name of day of week\n",
    "merged['Hour of day'] = merged['Datetime'].dt.hour       # hour component 0-23\n",
    "\n",
    "merged['Weekend (Y/N)'] = np.where(merged['Day of Week'].isin(['Saturday', 'Sunday']), 'Y', 'N')      # Is weekend or not\n",
    "\n",
    "# Define the bins and labels for categorization for time of day\n",
    "bins = [-1, 5, 11, 17, 23]  # Bins for morning, afternoon, evening, and night\n",
    "labels = [\"Night\", \"Morning\", \"Afternoon\", \"Evening\"]\n",
    "\n",
    "# Create a new column with the categorized values\n",
    "merged['Time of day'] = pd.cut(merged['Hour of day'], bins=bins, labels=labels, right=True)\n"
   ]
  },
  {
   "cell_type": "code",
   "execution_count": 31,
   "id": "a8ea641d-dd54-4164-9d40-04a0254e71c8",
   "metadata": {},
   "outputs": [
    {
     "data": {
      "text/html": [
       "<div>\n",
       "<style scoped>\n",
       "    .dataframe tbody tr th:only-of-type {\n",
       "        vertical-align: middle;\n",
       "    }\n",
       "\n",
       "    .dataframe tbody tr th {\n",
       "        vertical-align: top;\n",
       "    }\n",
       "\n",
       "    .dataframe thead th {\n",
       "        text-align: right;\n",
       "    }\n",
       "</style>\n",
       "<table border=\"1\" class=\"dataframe\">\n",
       "  <thead>\n",
       "    <tr style=\"text-align: right;\">\n",
       "      <th></th>\n",
       "      <th>Content ID</th>\n",
       "      <th>Reaction Type</th>\n",
       "      <th>Datetime</th>\n",
       "      <th>Content Type</th>\n",
       "      <th>Category</th>\n",
       "      <th>Sentiment</th>\n",
       "      <th>Score</th>\n",
       "      <th>Year</th>\n",
       "      <th>Month</th>\n",
       "      <th>Day of Month</th>\n",
       "      <th>Day of Week</th>\n",
       "      <th>Hour of day</th>\n",
       "      <th>Weekend (Y/N)</th>\n",
       "      <th>Time of day</th>\n",
       "    </tr>\n",
       "  </thead>\n",
       "  <tbody>\n",
       "    <tr>\n",
       "      <th>0</th>\n",
       "      <td>97522e57-d9ab-4bd6-97bf-c24d952602d2</td>\n",
       "      <td>disgust</td>\n",
       "      <td>2020-11-07 09:43:50</td>\n",
       "      <td>photo</td>\n",
       "      <td>Studying</td>\n",
       "      <td>negative</td>\n",
       "      <td>0</td>\n",
       "      <td>2020</td>\n",
       "      <td>November</td>\n",
       "      <td>7</td>\n",
       "      <td>Saturday</td>\n",
       "      <td>9</td>\n",
       "      <td>Y</td>\n",
       "      <td>Morning</td>\n",
       "    </tr>\n",
       "    <tr>\n",
       "      <th>1</th>\n",
       "      <td>97522e57-d9ab-4bd6-97bf-c24d952602d2</td>\n",
       "      <td>dislike</td>\n",
       "      <td>2021-06-17 12:22:51</td>\n",
       "      <td>photo</td>\n",
       "      <td>Studying</td>\n",
       "      <td>negative</td>\n",
       "      <td>10</td>\n",
       "      <td>2021</td>\n",
       "      <td>June</td>\n",
       "      <td>17</td>\n",
       "      <td>Thursday</td>\n",
       "      <td>12</td>\n",
       "      <td>N</td>\n",
       "      <td>Afternoon</td>\n",
       "    </tr>\n",
       "    <tr>\n",
       "      <th>2</th>\n",
       "      <td>97522e57-d9ab-4bd6-97bf-c24d952602d2</td>\n",
       "      <td>scared</td>\n",
       "      <td>2021-04-18 05:13:58</td>\n",
       "      <td>photo</td>\n",
       "      <td>Studying</td>\n",
       "      <td>negative</td>\n",
       "      <td>15</td>\n",
       "      <td>2021</td>\n",
       "      <td>April</td>\n",
       "      <td>18</td>\n",
       "      <td>Sunday</td>\n",
       "      <td>5</td>\n",
       "      <td>Y</td>\n",
       "      <td>Night</td>\n",
       "    </tr>\n",
       "    <tr>\n",
       "      <th>3</th>\n",
       "      <td>97522e57-d9ab-4bd6-97bf-c24d952602d2</td>\n",
       "      <td>disgust</td>\n",
       "      <td>2021-01-06 19:13:01</td>\n",
       "      <td>photo</td>\n",
       "      <td>Studying</td>\n",
       "      <td>negative</td>\n",
       "      <td>0</td>\n",
       "      <td>2021</td>\n",
       "      <td>January</td>\n",
       "      <td>6</td>\n",
       "      <td>Wednesday</td>\n",
       "      <td>19</td>\n",
       "      <td>N</td>\n",
       "      <td>Evening</td>\n",
       "    </tr>\n",
       "    <tr>\n",
       "      <th>4</th>\n",
       "      <td>97522e57-d9ab-4bd6-97bf-c24d952602d2</td>\n",
       "      <td>interested</td>\n",
       "      <td>2020-08-23 12:25:58</td>\n",
       "      <td>photo</td>\n",
       "      <td>Studying</td>\n",
       "      <td>positive</td>\n",
       "      <td>30</td>\n",
       "      <td>2020</td>\n",
       "      <td>August</td>\n",
       "      <td>23</td>\n",
       "      <td>Sunday</td>\n",
       "      <td>12</td>\n",
       "      <td>Y</td>\n",
       "      <td>Afternoon</td>\n",
       "    </tr>\n",
       "  </tbody>\n",
       "</table>\n",
       "</div>"
      ],
      "text/plain": [
       "                             Content ID Reaction Type            Datetime  \\\n",
       "0  97522e57-d9ab-4bd6-97bf-c24d952602d2       disgust 2020-11-07 09:43:50   \n",
       "1  97522e57-d9ab-4bd6-97bf-c24d952602d2       dislike 2021-06-17 12:22:51   \n",
       "2  97522e57-d9ab-4bd6-97bf-c24d952602d2        scared 2021-04-18 05:13:58   \n",
       "3  97522e57-d9ab-4bd6-97bf-c24d952602d2       disgust 2021-01-06 19:13:01   \n",
       "4  97522e57-d9ab-4bd6-97bf-c24d952602d2    interested 2020-08-23 12:25:58   \n",
       "\n",
       "  Content Type  Category Sentiment  Score  Year     Month  Day of Month  \\\n",
       "0        photo  Studying  negative      0  2020  November             7   \n",
       "1        photo  Studying  negative     10  2021      June            17   \n",
       "2        photo  Studying  negative     15  2021     April            18   \n",
       "3        photo  Studying  negative      0  2021   January             6   \n",
       "4        photo  Studying  positive     30  2020    August            23   \n",
       "\n",
       "  Day of Week  Hour of day Weekend (Y/N) Time of day  \n",
       "0    Saturday            9             Y     Morning  \n",
       "1    Thursday           12             N   Afternoon  \n",
       "2      Sunday            5             Y       Night  \n",
       "3   Wednesday           19             N     Evening  \n",
       "4      Sunday           12             Y   Afternoon  "
      ]
     },
     "execution_count": 31,
     "metadata": {},
     "output_type": "execute_result"
    }
   ],
   "source": [
    "merged.head()"
   ]
  },
  {
   "cell_type": "code",
   "execution_count": 36,
   "id": "5bb21ebe-e411-49e3-a3b3-d76363a13bbc",
   "metadata": {},
   "outputs": [],
   "source": [
    "#merged.to_csv('cleaned_merged_data.csv', index=False)    # Saving the CSV file"
   ]
  },
  {
   "cell_type": "code",
   "execution_count": null,
   "id": "2ebe0b37-eba2-42c2-8a98-db20cf8dc0e0",
   "metadata": {},
   "outputs": [],
   "source": []
  }
 ],
 "metadata": {
  "kernelspec": {
   "display_name": "Python 3 (ipykernel)",
   "language": "python",
   "name": "python3"
  },
  "language_info": {
   "codemirror_mode": {
    "name": "ipython",
    "version": 3
   },
   "file_extension": ".py",
   "mimetype": "text/x-python",
   "name": "python",
   "nbconvert_exporter": "python",
   "pygments_lexer": "ipython3",
   "version": "3.8.15"
  }
 },
 "nbformat": 4,
 "nbformat_minor": 5
}
